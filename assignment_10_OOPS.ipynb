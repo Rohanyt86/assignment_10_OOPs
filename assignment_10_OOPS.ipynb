{
 "cells": [
  {
   "cell_type": "markdown",
   "id": "944cbf06",
   "metadata": {},
   "source": [
    "#### Q1 Create a vehicle class with an init method having instance variables as name_of_vehicle, max_speed and average_of_vehicle."
   ]
  },
  {
   "cell_type": "code",
   "execution_count": 5,
   "id": "3461fc13",
   "metadata": {},
   "outputs": [],
   "source": [
    "class vehicle:\n",
    "    \n",
    "    def __init__(self,name,speed, average):\n",
    "        self.name = name\n",
    "        self.speed = speed\n",
    "        self.average = average\n",
    "    \n",
    "    def name_of_vehicle(self):\n",
    "        return self.name\n",
    "    \n",
    "    def max_speed(self):\n",
    "        return self.speed\n",
    "    \n",
    "    def average_of_vehicle(self):\n",
    "        return self.average"
   ]
  },
  {
   "cell_type": "code",
   "execution_count": 6,
   "id": "57bcf58f",
   "metadata": {},
   "outputs": [],
   "source": [
    "n = vehicle(\"Bmw\",15000,800)"
   ]
  },
  {
   "cell_type": "code",
   "execution_count": 8,
   "id": "23013dc1",
   "metadata": {},
   "outputs": [
    {
     "data": {
      "text/plain": [
       "'Bmw'"
      ]
     },
     "execution_count": 8,
     "metadata": {},
     "output_type": "execute_result"
    }
   ],
   "source": [
    "n.name_of_vehicle()"
   ]
  },
  {
   "cell_type": "markdown",
   "id": "082c1c28",
   "metadata": {},
   "source": [
    "#### Q2. Create a child class car from the vehicle class created in Que 1, which will inherit the vehicle class. Create a method named seating_capacity which takes capacity as an argument and returns the name of the vehicle and its seating capacity."
   ]
  },
  {
   "cell_type": "code",
   "execution_count": 15,
   "id": "dfe445ef",
   "metadata": {},
   "outputs": [
    {
     "name": "stdout",
     "output_type": "stream",
     "text": [
      "Name: Toyota Camry, Color: Blue, Wheels: 4\n",
      "Toyota Camry has a seating capacity of 5 people.\n"
     ]
    }
   ],
   "source": [
    "class Vehicle:\n",
    "    def __init__(self, name, color, wheels):\n",
    "        self.name = name\n",
    "        self.color = color\n",
    "        self.wheels = wheels\n",
    "\n",
    "    def display_info(self):\n",
    "        return f\"Name: {self.name}, Color: {self.color}, Wheels: {self.wheels}\"\n",
    "\n",
    "class Car(Vehicle):\n",
    "    def seating_capacity(self, capacity):\n",
    "        return f\"{self.name} has a seating capacity of {capacity} people.\"\n",
    "\n",
    "# Example usage:\n",
    "my_car = Car(\"Toyota Camry\", \"Blue\", 4)\n",
    "print(my_car.display_info())  \n",
    "print(my_car.seating_capacity(5))  \n"
   ]
  },
  {
   "cell_type": "markdown",
   "id": "691d84c0",
   "metadata": {},
   "source": [
    "#### Q3. What is multiple inheritance? Write a python code to demonstrate multiple inheritance."
   ]
  },
  {
   "cell_type": "code",
   "execution_count": null,
   "id": "9aa0fefd",
   "metadata": {},
   "outputs": [],
   "source": [
    "Multiple inheritance is a feature in object-oriented programming where a class can inherit attributes and\n",
    "behaviors from more than one parent class"
   ]
  },
  {
   "cell_type": "code",
   "execution_count": 28,
   "id": "3e1ec0ee",
   "metadata": {},
   "outputs": [],
   "source": [
    "## example\n",
    "\n",
    "class Animal:\n",
    "    def __init__(self, name):\n",
    "        self.name = name\n",
    "\n",
    "    def speak(self):\n",
    "        pass\n",
    "\n",
    "# Parent class 2\n",
    "class Bird:\n",
    "    def fly(self):\n",
    "        print(f\"{self.name} can fly\")\n",
    "        \n",
    "## inheritence from two\n",
    "\n",
    "class parrot(Animal,Bird):\n",
    "    \n",
    "    def speak(self):\n",
    "        print(f\"{self.name} can speak like a parrot\")\n",
    "              \n",
    "## inherite from animal only\n",
    "              \n",
    "class dog(Animal):\n",
    "            \n",
    "    def speak(self):\n",
    "         print(f\"{self.name} can speak like a dog\")     "
   ]
  },
  {
   "cell_type": "code",
   "execution_count": 37,
   "id": "7689cf4b",
   "metadata": {},
   "outputs": [],
   "source": [
    "polly = parrot(\"Polly\")\n",
    "buddy = dog(\"Buddy\")"
   ]
  },
  {
   "cell_type": "code",
   "execution_count": 38,
   "id": "48656497",
   "metadata": {},
   "outputs": [
    {
     "name": "stdout",
     "output_type": "stream",
     "text": [
      "Buddy can speak like a dog\n"
     ]
    }
   ],
   "source": [
    "buddy.speak()"
   ]
  },
  {
   "cell_type": "code",
   "execution_count": 39,
   "id": "c8b2db7b",
   "metadata": {},
   "outputs": [
    {
     "name": "stdout",
     "output_type": "stream",
     "text": [
      "Polly can speak like a parrot\n"
     ]
    }
   ],
   "source": [
    "polly.speak()"
   ]
  },
  {
   "cell_type": "markdown",
   "id": "6018cda2",
   "metadata": {},
   "source": [
    "#### Q4. What are getter and setter in python? Create a class and create a getter and a setter method in this class."
   ]
  },
  {
   "cell_type": "code",
   "execution_count": null,
   "id": "35566f60",
   "metadata": {},
   "outputs": [],
   "source": [
    "In Python, getters and setters are methods used to control access to the attributes (variables) of a class.Getters \n",
    "are used to retrieve the value of an attribute, and setters are used to modify the value of an attribute"
   ]
  },
  {
   "cell_type": "code",
   "execution_count": 40,
   "id": "a9ef6de7",
   "metadata": {},
   "outputs": [
    {
     "name": "stdout",
     "output_type": "stream",
     "text": [
      "Original Name: Alice\n",
      "Modified Name: Bob\n",
      "Name cannot be empty!\n",
      "Name after invalid modification: Bob\n"
     ]
    }
   ],
   "source": [
    "class Person:\n",
    "    def __init__(self, name):\n",
    "        self._name = name  # Attribute with a single underscore to indicate it's \"protected\"\n",
    "\n",
    "    # Getter method for the name attribute\n",
    "    def get_name(self):\n",
    "        return self._name\n",
    "\n",
    "    # Setter method for the name attribute\n",
    "    def set_name(self, new_name):\n",
    "        if len(new_name) > 0:\n",
    "            self._name = new_name\n",
    "        else:\n",
    "            print(\"Name cannot be empty!\")\n",
    "\n",
    "# Create an instance of the Person class\n",
    "person = Person(\"Alice\")\n",
    "\n",
    "# Using the getter to retrieve the name\n",
    "print(\"Original Name:\", person.get_name())\n",
    "\n",
    "# Using the setter to modify the name\n",
    "person.set_name(\"Bob\")\n",
    "print(\"Modified Name:\", person.get_name())\n",
    "\n",
    "# Using the setter to set an empty name (validation will prevent it)\n",
    "person.set_name(\"\")\n",
    "print(\"Name after invalid modification:\", person.get_name())\n"
   ]
  },
  {
   "cell_type": "markdown",
   "id": "bba18491",
   "metadata": {},
   "source": [
    "#### Q5.What is method overriding in python? Write a python code to demonstrate method overriding."
   ]
  },
  {
   "cell_type": "code",
   "execution_count": 41,
   "id": "4e18f704",
   "metadata": {},
   "outputs": [],
   "source": [
    "class animal:\n",
    "    \n",
    "    def speak(self):\n",
    "        print(\"This is a generic animal sound.\")\n",
    "\n",
    "class Dog(Animal):\n",
    "    def speak(self):\n",
    "        print(\"Woof! Woof!\")\n",
    "\n",
    "class Cat(Animal):\n",
    "    def speak(self):\n",
    "        print(\"Meow!\")"
   ]
  },
  {
   "cell_type": "code",
   "execution_count": 43,
   "id": "d57a4481",
   "metadata": {},
   "outputs": [],
   "source": [
    "n = Dog(\"Henry\")"
   ]
  },
  {
   "cell_type": "code",
   "execution_count": 44,
   "id": "8baeb65c",
   "metadata": {},
   "outputs": [
    {
     "name": "stdout",
     "output_type": "stream",
     "text": [
      "Woof! Woof!\n"
     ]
    }
   ],
   "source": [
    "n.speak()"
   ]
  },
  {
   "cell_type": "code",
   "execution_count": 46,
   "id": "7132ad96",
   "metadata": {},
   "outputs": [],
   "source": [
    "j = Cat(\"lio\")"
   ]
  },
  {
   "cell_type": "code",
   "execution_count": 47,
   "id": "16eb6d81",
   "metadata": {},
   "outputs": [
    {
     "name": "stdout",
     "output_type": "stream",
     "text": [
      "Meow!\n"
     ]
    }
   ],
   "source": [
    "j.speak()"
   ]
  },
  {
   "cell_type": "code",
   "execution_count": null,
   "id": "b10eb1da",
   "metadata": {},
   "outputs": [],
   "source": []
  }
 ],
 "metadata": {
  "kernelspec": {
   "display_name": "Python 3 (ipykernel)",
   "language": "python",
   "name": "python3"
  },
  "language_info": {
   "codemirror_mode": {
    "name": "ipython",
    "version": 3
   },
   "file_extension": ".py",
   "mimetype": "text/x-python",
   "name": "python",
   "nbconvert_exporter": "python",
   "pygments_lexer": "ipython3",
   "version": "3.9.13"
  }
 },
 "nbformat": 4,
 "nbformat_minor": 5
}
